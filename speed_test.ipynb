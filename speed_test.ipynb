{
 "cells": [
  {
   "cell_type": "code",
   "execution_count": 1,
   "id": "990bc310-d324-4e79-a511-95999b8e72e9",
   "metadata": {
    "execution": {
     "iopub.execute_input": "2024-03-01T06:42:46.870610Z",
     "iopub.status.busy": "2024-03-01T06:42:46.870067Z",
     "iopub.status.idle": "2024-03-01T06:43:13.299043Z",
     "shell.execute_reply": "2024-03-01T06:43:13.297770Z",
     "shell.execute_reply.started": "2024-03-01T06:42:46.870568Z"
    }
   },
   "outputs": [
    {
     "name": "stdout",
     "output_type": "stream",
     "text": [
      "Collecting diffusers[torch]\n",
      "  Downloading diffusers-0.26.3-py3-none-any.whl (1.9 MB)\n",
      "\u001b[2K     \u001b[90m━━━━━━━━━━━━━━━━━━━━━━━━━━━━━━━━━━━━━━━━\u001b[0m \u001b[32m1.9/1.9 MB\u001b[0m \u001b[31m664.7 kB/s\u001b[0m eta \u001b[36m0:00:00\u001b[0m00:01\u001b[0m00:01\u001b[0m\n",
      "\u001b[?25hCollecting huggingface-hub>=0.20.2\n",
      "  Downloading huggingface_hub-0.21.3-py3-none-any.whl (346 kB)\n",
      "\u001b[2K     \u001b[90m━━━━━━━━━━━━━━━━━━━━━━━━━━━━━━━━━━━━━━━\u001b[0m \u001b[32m346.2/346.2 kB\u001b[0m \u001b[31m4.0 MB/s\u001b[0m eta \u001b[36m0:00:00\u001b[0ma \u001b[36m0:00:01\u001b[0m\n",
      "\u001b[?25hRequirement already satisfied: numpy in /usr/local/lib/python3.9/dist-packages (from diffusers[torch]) (1.23.4)\n",
      "Requirement already satisfied: importlib-metadata in /usr/local/lib/python3.9/dist-packages (from diffusers[torch]) (6.0.0)\n",
      "Requirement already satisfied: requests in /usr/local/lib/python3.9/dist-packages (from diffusers[torch]) (2.28.2)\n",
      "Requirement already satisfied: regex!=2019.12.17 in /usr/local/lib/python3.9/dist-packages (from diffusers[torch]) (2022.10.31)\n",
      "Requirement already satisfied: filelock in /usr/local/lib/python3.9/dist-packages (from diffusers[torch]) (3.9.0)\n",
      "Requirement already satisfied: Pillow in /usr/local/lib/python3.9/dist-packages (from diffusers[torch]) (9.2.0)\n",
      "Collecting safetensors>=0.3.1\n",
      "  Downloading safetensors-0.4.2-cp39-cp39-manylinux_2_17_x86_64.manylinux2014_x86_64.whl (1.3 MB)\n",
      "\u001b[2K     \u001b[90m━━━━━━━━━━━━━━━━━━━━━━━━━━━━━━━━━━━━━━━━\u001b[0m \u001b[32m1.3/1.3 MB\u001b[0m \u001b[31m2.2 MB/s\u001b[0m eta \u001b[36m0:00:00\u001b[0m00:01\u001b[0m00:01\u001b[0mm\n",
      "\u001b[?25hRequirement already satisfied: torch<2.2.0,>=1.4 in /usr/local/lib/python3.9/dist-packages (from diffusers[torch]) (1.12.1+cu116)\n",
      "Collecting accelerate>=0.11.0\n",
      "  Downloading accelerate-0.27.2-py3-none-any.whl (279 kB)\n",
      "\u001b[2K     \u001b[90m━━━━━━━━━━━━━━━━━━━━━━━━━━━━━━━━━━━━━━━\u001b[0m \u001b[32m280.0/280.0 kB\u001b[0m \u001b[31m1.7 MB/s\u001b[0m eta \u001b[36m0:00:00\u001b[0ma \u001b[36m0:00:01\u001b[0m\n",
      "\u001b[?25hRequirement already satisfied: psutil in /usr/local/lib/python3.9/dist-packages (from accelerate>=0.11.0->diffusers[torch]) (5.9.4)\n",
      "Requirement already satisfied: pyyaml in /usr/local/lib/python3.9/dist-packages (from accelerate>=0.11.0->diffusers[torch]) (5.4.1)\n",
      "Requirement already satisfied: packaging>=20.0 in /usr/local/lib/python3.9/dist-packages (from accelerate>=0.11.0->diffusers[torch]) (23.0)\n",
      "Requirement already satisfied: typing-extensions>=3.7.4.3 in /usr/local/lib/python3.9/dist-packages (from huggingface-hub>=0.20.2->diffusers[torch]) (4.4.0)\n",
      "Collecting fsspec>=2023.5.0\n",
      "  Downloading fsspec-2024.2.0-py3-none-any.whl (170 kB)\n",
      "\u001b[2K     \u001b[90m━━━━━━━━━━━━━━━━━━━━━━━━━━━━━━━━━━━━━━━\u001b[0m \u001b[32m170.9/170.9 kB\u001b[0m \u001b[31m2.6 MB/s\u001b[0m eta \u001b[36m0:00:00\u001b[0ma \u001b[36m0:00:01\u001b[0m\n",
      "\u001b[?25hRequirement already satisfied: tqdm>=4.42.1 in /usr/local/lib/python3.9/dist-packages (from huggingface-hub>=0.20.2->diffusers[torch]) (4.64.1)\n",
      "Requirement already satisfied: zipp>=0.5 in /usr/local/lib/python3.9/dist-packages (from importlib-metadata->diffusers[torch]) (3.11.0)\n",
      "Requirement already satisfied: certifi>=2017.4.17 in /usr/lib/python3/dist-packages (from requests->diffusers[torch]) (2019.11.28)\n",
      "Requirement already satisfied: charset-normalizer<4,>=2 in /usr/local/lib/python3.9/dist-packages (from requests->diffusers[torch]) (2.1.1)\n",
      "Requirement already satisfied: idna<4,>=2.5 in /usr/lib/python3/dist-packages (from requests->diffusers[torch]) (2.8)\n",
      "Requirement already satisfied: urllib3<1.27,>=1.21.1 in /usr/local/lib/python3.9/dist-packages (from requests->diffusers[torch]) (1.26.14)\n",
      "Installing collected packages: safetensors, fsspec, huggingface-hub, diffusers, accelerate\n",
      "  Attempting uninstall: fsspec\n",
      "    Found existing installation: fsspec 2023.1.0\n",
      "    Uninstalling fsspec-2023.1.0:\n",
      "      Successfully uninstalled fsspec-2023.1.0\n",
      "  Attempting uninstall: huggingface-hub\n",
      "    Found existing installation: huggingface-hub 0.12.0\n",
      "    Uninstalling huggingface-hub-0.12.0:\n",
      "      Successfully uninstalled huggingface-hub-0.12.0\n",
      "Successfully installed accelerate-0.27.2 diffusers-0.26.3 fsspec-2024.2.0 huggingface-hub-0.21.3 safetensors-0.4.2\n",
      "\u001b[33mWARNING: Running pip as the 'root' user can result in broken permissions and conflicting behaviour with the system package manager. It is recommended to use a virtual environment instead: https://pip.pypa.io/warnings/venv\u001b[0m\u001b[33m\n",
      "\u001b[0mRequirement already satisfied: transformers in /usr/local/lib/python3.9/dist-packages (4.21.3)\n",
      "Requirement already satisfied: filelock in /usr/local/lib/python3.9/dist-packages (from transformers) (3.9.0)\n",
      "Requirement already satisfied: requests in /usr/local/lib/python3.9/dist-packages (from transformers) (2.28.2)\n",
      "Requirement already satisfied: tokenizers!=0.11.3,<0.13,>=0.11.1 in /usr/local/lib/python3.9/dist-packages (from transformers) (0.12.1)\n",
      "Requirement already satisfied: regex!=2019.12.17 in /usr/local/lib/python3.9/dist-packages (from transformers) (2022.10.31)\n",
      "Requirement already satisfied: packaging>=20.0 in /usr/local/lib/python3.9/dist-packages (from transformers) (23.0)\n",
      "Requirement already satisfied: numpy>=1.17 in /usr/local/lib/python3.9/dist-packages (from transformers) (1.23.4)\n",
      "Requirement already satisfied: tqdm>=4.27 in /usr/local/lib/python3.9/dist-packages (from transformers) (4.64.1)\n",
      "Requirement already satisfied: huggingface-hub<1.0,>=0.1.0 in /usr/local/lib/python3.9/dist-packages (from transformers) (0.21.3)\n",
      "Requirement already satisfied: pyyaml>=5.1 in /usr/local/lib/python3.9/dist-packages (from transformers) (5.4.1)\n",
      "Requirement already satisfied: fsspec>=2023.5.0 in /usr/local/lib/python3.9/dist-packages (from huggingface-hub<1.0,>=0.1.0->transformers) (2024.2.0)\n",
      "Requirement already satisfied: typing-extensions>=3.7.4.3 in /usr/local/lib/python3.9/dist-packages (from huggingface-hub<1.0,>=0.1.0->transformers) (4.4.0)\n",
      "Requirement already satisfied: certifi>=2017.4.17 in /usr/lib/python3/dist-packages (from requests->transformers) (2019.11.28)\n",
      "Requirement already satisfied: urllib3<1.27,>=1.21.1 in /usr/local/lib/python3.9/dist-packages (from requests->transformers) (1.26.14)\n",
      "Requirement already satisfied: idna<4,>=2.5 in /usr/lib/python3/dist-packages (from requests->transformers) (2.8)\n",
      "Requirement already satisfied: charset-normalizer<4,>=2 in /usr/local/lib/python3.9/dist-packages (from requests->transformers) (2.1.1)\n",
      "\u001b[33mWARNING: Running pip as the 'root' user can result in broken permissions and conflicting behaviour with the system package manager. It is recommended to use a virtual environment instead: https://pip.pypa.io/warnings/venv\u001b[0m\u001b[33m\n",
      "\u001b[0m"
     ]
    }
   ],
   "source": [
    "### install requirements ###\n",
    "\n",
    "!pip install --upgrade diffusers[torch]\n",
    "!pip install transformers\n",
    "     "
   ]
  },
  {
   "cell_type": "code",
   "execution_count": 2,
   "id": "37917a8a-6102-47ef-8f98-dca8b739fd0a",
   "metadata": {
    "execution": {
     "iopub.execute_input": "2024-03-01T06:43:23.003107Z",
     "iopub.status.busy": "2024-03-01T06:43:23.002424Z",
     "iopub.status.idle": "2024-03-01T06:44:02.835434Z",
     "shell.execute_reply": "2024-03-01T06:44:02.834035Z",
     "shell.execute_reply.started": "2024-03-01T06:43:23.003037Z"
    }
   },
   "outputs": [
    {
     "name": "stdout",
     "output_type": "stream",
     "text": [
      "Requirement already satisfied: diffusers in /usr/local/lib/python3.9/dist-packages (0.26.3)\n",
      "Requirement already satisfied: transformers in /usr/local/lib/python3.9/dist-packages (4.21.3)\n",
      "Collecting transformers\n",
      "  Downloading transformers-4.38.2-py3-none-any.whl (8.5 MB)\n",
      "\u001b[2K     \u001b[90m━━━━━━━━━━━━━━━━━━━━━━━━━━━━━━━━━━━━━━━━\u001b[0m \u001b[32m8.5/8.5 MB\u001b[0m \u001b[31m9.0 MB/s\u001b[0m eta \u001b[36m0:00:00\u001b[0m00:01\u001b[0m00:01\u001b[0m\n",
      "\u001b[?25hRequirement already satisfied: scipy in /usr/local/lib/python3.9/dist-packages (1.9.2)\n",
      "Collecting scipy\n",
      "  Downloading scipy-1.12.0-cp39-cp39-manylinux_2_17_x86_64.manylinux2014_x86_64.whl (38.5 MB)\n",
      "\u001b[2K     \u001b[90m━━━━━━━━━━━━━━━━━━━━━━━━━━━━━━━━━━━━━━━━\u001b[0m \u001b[32m38.5/38.5 MB\u001b[0m \u001b[31m7.5 MB/s\u001b[0m eta \u001b[36m0:00:00\u001b[0m:00:01\u001b[0m00:01\u001b[0m\n",
      "\u001b[?25hRequirement already satisfied: filelock in /usr/local/lib/python3.9/dist-packages (from diffusers) (3.9.0)\n",
      "Requirement already satisfied: safetensors>=0.3.1 in /usr/local/lib/python3.9/dist-packages (from diffusers) (0.4.2)\n",
      "Requirement already satisfied: huggingface-hub>=0.20.2 in /usr/local/lib/python3.9/dist-packages (from diffusers) (0.21.3)\n",
      "Requirement already satisfied: numpy in /usr/local/lib/python3.9/dist-packages (from diffusers) (1.23.4)\n",
      "Requirement already satisfied: regex!=2019.12.17 in /usr/local/lib/python3.9/dist-packages (from diffusers) (2022.10.31)\n",
      "Requirement already satisfied: requests in /usr/local/lib/python3.9/dist-packages (from diffusers) (2.28.2)\n",
      "Requirement already satisfied: Pillow in /usr/local/lib/python3.9/dist-packages (from diffusers) (9.2.0)\n",
      "Requirement already satisfied: importlib-metadata in /usr/local/lib/python3.9/dist-packages (from diffusers) (6.0.0)\n",
      "Requirement already satisfied: packaging>=20.0 in /usr/local/lib/python3.9/dist-packages (from transformers) (23.0)\n",
      "Collecting tokenizers<0.19,>=0.14\n",
      "  Downloading tokenizers-0.15.2-cp39-cp39-manylinux_2_17_x86_64.manylinux2014_x86_64.whl (3.6 MB)\n",
      "\u001b[2K     \u001b[90m━━━━━━━━━━━━━━━━━━━━━━━━━━━━━━━━━━━━━━━━\u001b[0m \u001b[32m3.6/3.6 MB\u001b[0m \u001b[31m19.8 MB/s\u001b[0m eta \u001b[36m0:00:00\u001b[0ma \u001b[36m0:00:01\u001b[0m\n",
      "\u001b[?25hRequirement already satisfied: tqdm>=4.27 in /usr/local/lib/python3.9/dist-packages (from transformers) (4.64.1)\n",
      "Requirement already satisfied: pyyaml>=5.1 in /usr/local/lib/python3.9/dist-packages (from transformers) (5.4.1)\n",
      "Requirement already satisfied: fsspec>=2023.5.0 in /usr/local/lib/python3.9/dist-packages (from huggingface-hub>=0.20.2->diffusers) (2024.2.0)\n",
      "Requirement already satisfied: typing-extensions>=3.7.4.3 in /usr/local/lib/python3.9/dist-packages (from huggingface-hub>=0.20.2->diffusers) (4.4.0)\n",
      "Requirement already satisfied: zipp>=0.5 in /usr/local/lib/python3.9/dist-packages (from importlib-metadata->diffusers) (3.11.0)\n",
      "Requirement already satisfied: urllib3<1.27,>=1.21.1 in /usr/local/lib/python3.9/dist-packages (from requests->diffusers) (1.26.14)\n",
      "Requirement already satisfied: certifi>=2017.4.17 in /usr/lib/python3/dist-packages (from requests->diffusers) (2019.11.28)\n",
      "Requirement already satisfied: charset-normalizer<4,>=2 in /usr/local/lib/python3.9/dist-packages (from requests->diffusers) (2.1.1)\n",
      "Requirement already satisfied: idna<4,>=2.5 in /usr/lib/python3/dist-packages (from requests->diffusers) (2.8)\n",
      "Installing collected packages: scipy, tokenizers, transformers\n",
      "  Attempting uninstall: scipy\n",
      "    Found existing installation: scipy 1.9.2\n",
      "    Uninstalling scipy-1.9.2:\n",
      "      Successfully uninstalled scipy-1.9.2\n",
      "  Attempting uninstall: tokenizers\n",
      "    Found existing installation: tokenizers 0.12.1\n",
      "    Uninstalling tokenizers-0.12.1:\n",
      "      Successfully uninstalled tokenizers-0.12.1\n",
      "  Attempting uninstall: transformers\n",
      "    Found existing installation: transformers 4.21.3\n",
      "    Uninstalling transformers-4.21.3:\n",
      "      Successfully uninstalled transformers-4.21.3\n",
      "Successfully installed scipy-1.12.0 tokenizers-0.15.2 transformers-4.38.2\n",
      "\u001b[33mWARNING: Running pip as the 'root' user can result in broken permissions and conflicting behaviour with the system package manager. It is recommended to use a virtual environment instead: https://pip.pypa.io/warnings/venv\u001b[0m\u001b[33m\n",
      "\u001b[0m"
     ]
    }
   ],
   "source": [
    "!pip install --upgrade diffusers transformers scipy"
   ]
  },
  {
   "cell_type": "code",
   "execution_count": 3,
   "id": "a6c96d29-9fef-4771-b0c3-fcd5672b3162",
   "metadata": {
    "execution": {
     "iopub.execute_input": "2024-03-01T06:44:14.497926Z",
     "iopub.status.busy": "2024-03-01T06:44:14.497358Z",
     "iopub.status.idle": "2024-03-01T06:44:22.623183Z",
     "shell.execute_reply": "2024-03-01T06:44:22.621784Z",
     "shell.execute_reply.started": "2024-03-01T06:44:14.497884Z"
    }
   },
   "outputs": [
    {
     "name": "stdout",
     "output_type": "stream",
     "text": [
      "\u001b[33mWARNING: Running pip as the 'root' user can result in broken permissions and conflicting behaviour with the system package manager. It is recommended to use a virtual environment instead: https://pip.pypa.io/warnings/venv\u001b[0m\u001b[33m\n",
      "\u001b[0m"
     ]
    }
   ],
   "source": [
    "!pip install --quiet ipyplot\n"
   ]
  },
  {
   "cell_type": "code",
   "execution_count": 4,
   "id": "1e4ec97a-1f73-4592-b648-24f108274655",
   "metadata": {
    "execution": {
     "iopub.execute_input": "2024-03-01T06:44:31.619891Z",
     "iopub.status.busy": "2024-03-01T06:44:31.618029Z",
     "iopub.status.idle": "2024-03-01T06:44:41.396487Z",
     "shell.execute_reply": "2024-03-01T06:44:41.395437Z",
     "shell.execute_reply.started": "2024-03-01T06:44:31.619807Z"
    }
   },
   "outputs": [
    {
     "name": "stderr",
     "output_type": "stream",
     "text": [
      "The cache for model files in Transformers v4.22.0 has been updated. Migrating your old cache. This is a one-time only operation. You can interrupt this and resume the migration later on by calling `transformers.utils.move_cache()`.\n"
     ]
    },
    {
     "data": {
      "application/vnd.jupyter.widget-view+json": {
       "model_id": "ee30dfb7fb454a7baf0e39af8387701f",
       "version_major": 2,
       "version_minor": 0
      },
      "text/plain": [
       "0it [00:00, ?it/s]"
      ]
     },
     "metadata": {},
     "output_type": "display_data"
    }
   ],
   "source": [
    "import torch\n",
    "from torch import autocast\n",
    "from diffusers import StableDiffusionPipeline\n",
    "# import ipyplot\n",
    "\n",
    "model_id = \"CompVis/stable-diffusion-v1-5\""
   ]
  },
  {
   "cell_type": "code",
   "execution_count": 7,
   "id": "2155dedd-e3ba-479e-9716-102af42def52",
   "metadata": {
    "execution": {
     "iopub.execute_input": "2024-03-01T06:46:39.047917Z",
     "iopub.status.busy": "2024-03-01T06:46:39.046764Z",
     "iopub.status.idle": "2024-03-01T06:46:39.055226Z",
     "shell.execute_reply": "2024-03-01T06:46:39.053124Z",
     "shell.execute_reply.started": "2024-03-01T06:46:39.047869Z"
    }
   },
   "outputs": [],
   "source": [
    "from diffusers import DiffusionPipeline\n",
    "import torch"
   ]
  },
  {
   "cell_type": "code",
   "execution_count": 18,
   "id": "56687767-c27d-45cc-b6db-deb93bd5c211",
   "metadata": {
    "execution": {
     "iopub.execute_input": "2024-03-01T06:57:33.761264Z",
     "iopub.status.busy": "2024-03-01T06:57:33.759712Z",
     "iopub.status.idle": "2024-03-01T06:57:33.767825Z",
     "shell.execute_reply": "2024-03-01T06:57:33.765880Z",
     "shell.execute_reply.started": "2024-03-01T06:57:33.761189Z"
    }
   },
   "outputs": [],
   "source": [
    "# pipeline = DiffusionPipeline.from_pretrained(\"runwayml/stable-diffusion-v1-5\", torch_dtype=torch.float16)\n"
   ]
  },
  {
   "cell_type": "code",
   "execution_count": 13,
   "id": "77d32ba8-cb99-4fb2-a3b7-e1de025b7af1",
   "metadata": {
    "execution": {
     "iopub.execute_input": "2024-03-01T06:53:31.728587Z",
     "iopub.status.busy": "2024-03-01T06:53:31.727106Z",
     "iopub.status.idle": "2024-03-01T06:53:31.734824Z",
     "shell.execute_reply": "2024-03-01T06:53:31.733486Z",
     "shell.execute_reply.started": "2024-03-01T06:53:31.728518Z"
    }
   },
   "outputs": [],
   "source": [
    "### generate images ###\n",
    "import random\n",
    "import os\n",
    "import time\n",
    "\n",
    "import matplotlib.pyplot as plt"
   ]
  },
  {
   "cell_type": "code",
   "execution_count": 11,
   "id": "355e42b5-8624-4535-975f-05e80ab62448",
   "metadata": {
    "execution": {
     "iopub.execute_input": "2024-03-01T06:52:30.728607Z",
     "iopub.status.busy": "2024-03-01T06:52:30.727974Z",
     "iopub.status.idle": "2024-03-01T06:52:30.855432Z",
     "shell.execute_reply": "2024-03-01T06:52:30.853831Z",
     "shell.execute_reply.started": "2024-03-01T06:52:30.728556Z"
    }
   },
   "outputs": [],
   "source": [
    "# create the data folders\n",
    "\n",
    "os.makedirs('/notebooks/happy', exist_ok=True)\n",
    "os.makedirs('/notebooks/sad', exist_ok=True)\n",
    "os.makedirs('/notebooks/angry', exist_ok=True)\n",
    "os.makedirs('/notebooks/surprised', exist_ok=True)\n",
    "os.makedirs('/notebooks/lonely', exist_ok=True)"
   ]
  },
  {
   "cell_type": "code",
   "execution_count": 23,
   "id": "e447d91d-b0f1-47f9-8a11-e55b841e7166",
   "metadata": {
    "execution": {
     "iopub.execute_input": "2024-03-01T07:00:07.897472Z",
     "iopub.status.busy": "2024-03-01T07:00:07.895188Z",
     "iopub.status.idle": "2024-03-01T07:00:35.863853Z",
     "shell.execute_reply": "2024-03-01T07:00:35.862172Z",
     "shell.execute_reply.started": "2024-03-01T07:00:07.897392Z"
    }
   },
   "outputs": [
    {
     "data": {
      "application/vnd.jupyter.widget-view+json": {
       "model_id": "bdafa1a64b2b4f3b8b862487010a93aa",
       "version_major": 2,
       "version_minor": 0
      },
      "text/plain": [
       "  0%|          | 0/50 [00:00<?, ?it/s]"
      ]
     },
     "metadata": {},
     "output_type": "display_data"
    }
   ],
   "source": [
    "device = \"cuda\"\n",
    "pipeline = pipeline.to(device)\n",
    "\n",
    "prompt = \"a photo of an astronaut riding a horse on mars\"\n",
    "image = pipeline(prompt).images[0]  \n",
    "    \n",
    "image.save(\"astronaut_rides_horse.png\")"
   ]
  },
  {
   "cell_type": "code",
   "execution_count": 24,
   "id": "094d267c-d78b-4c93-91c3-00d1dc75970d",
   "metadata": {
    "execution": {
     "iopub.execute_input": "2024-03-01T07:01:19.665656Z",
     "iopub.status.busy": "2024-03-01T07:01:19.665098Z",
     "iopub.status.idle": "2024-03-01T07:04:26.052354Z",
     "shell.execute_reply": "2024-03-01T07:04:26.045671Z",
     "shell.execute_reply.started": "2024-03-01T07:01:19.665609Z"
    }
   },
   "outputs": [
    {
     "name": "stdout",
     "output_type": "stream",
     "text": [
      "######## GPU SPEED ##########\n"
     ]
    },
    {
     "data": {
      "application/vnd.jupyter.widget-view+json": {
       "model_id": "c9869c5561f3499fbb054fbf362cdeb0",
       "version_major": 2,
       "version_minor": 0
      },
      "text/plain": [
       "  0%|          | 0/50 [00:00<?, ?it/s]"
      ]
     },
     "metadata": {},
     "output_type": "display_data"
    },
    {
     "data": {
      "application/vnd.jupyter.widget-view+json": {
       "model_id": "3638be6718b745f793407906f99d8c8d",
       "version_major": 2,
       "version_minor": 0
      },
      "text/plain": [
       "  0%|          | 0/50 [00:00<?, ?it/s]"
      ]
     },
     "metadata": {},
     "output_type": "display_data"
    },
    {
     "data": {
      "application/vnd.jupyter.widget-view+json": {
       "model_id": "94914d2bf2f342a598d23bc54c4ec396",
       "version_major": 2,
       "version_minor": 0
      },
      "text/plain": [
       "  0%|          | 0/50 [00:00<?, ?it/s]"
      ]
     },
     "metadata": {},
     "output_type": "display_data"
    },
    {
     "data": {
      "application/vnd.jupyter.widget-view+json": {
       "model_id": "e02c2c0a51de4f308c7b09c3b29bc1ab",
       "version_major": 2,
       "version_minor": 0
      },
      "text/plain": [
       "  0%|          | 0/50 [00:00<?, ?it/s]"
      ]
     },
     "metadata": {},
     "output_type": "display_data"
    },
    {
     "data": {
      "application/vnd.jupyter.widget-view+json": {
       "model_id": "4f16734159c04bd0a4a1b7d629e49a29",
       "version_major": 2,
       "version_minor": 0
      },
      "text/plain": [
       "  0%|          | 0/50 [00:00<?, ?it/s]"
      ]
     },
     "metadata": {},
     "output_type": "display_data"
    },
    {
     "data": {
      "application/vnd.jupyter.widget-view+json": {
       "model_id": "2c772c3265a94b8aa80eb0ad21b70809",
       "version_major": 2,
       "version_minor": 0
      },
      "text/plain": [
       "  0%|          | 0/50 [00:00<?, ?it/s]"
      ]
     },
     "metadata": {},
     "output_type": "display_data"
    },
    {
     "data": {
      "application/vnd.jupyter.widget-view+json": {
       "model_id": "c821f01db299408eba1844473f993ee8",
       "version_major": 2,
       "version_minor": 0
      },
      "text/plain": [
       "  0%|          | 0/50 [00:00<?, ?it/s]"
      ]
     },
     "metadata": {},
     "output_type": "display_data"
    },
    {
     "data": {
      "application/vnd.jupyter.widget-view+json": {
       "model_id": "6972609bcc8c4b13ab83f98d93983b24",
       "version_major": 2,
       "version_minor": 0
      },
      "text/plain": [
       "  0%|          | 0/50 [00:00<?, ?it/s]"
      ]
     },
     "metadata": {},
     "output_type": "display_data"
    },
    {
     "data": {
      "application/vnd.jupyter.widget-view+json": {
       "model_id": "629627d8422749aa8c73d81127cc0d45",
       "version_major": 2,
       "version_minor": 0
      },
      "text/plain": [
       "  0%|          | 0/50 [00:00<?, ?it/s]"
      ]
     },
     "metadata": {},
     "output_type": "display_data"
    },
    {
     "data": {
      "application/vnd.jupyter.widget-view+json": {
       "model_id": "ee33061709e6426c9b32ac91afbde467",
       "version_major": 2,
       "version_minor": 0
      },
      "text/plain": [
       "  0%|          | 0/50 [00:00<?, ?it/s]"
      ]
     },
     "metadata": {},
     "output_type": "display_data"
    },
    {
     "name": "stdout",
     "output_type": "stream",
     "text": [
      "186.36948108673096\n"
     ]
    }
   ],
   "source": [
    "ethnicities = ['a han Chinese', 'a maasai', 'a inuit', 'a bengali', 'a zulu', 'a ashkenazi Jewish']\n",
    "genders = ['male', 'female']\n",
    "emotion_prompts = {'happy': 'smiling',\n",
    "                   'surprised': 'surprised, opened mouth, raised eyebrows',\n",
    "                   'sad': 'frowning, sad face expression, crying',\n",
    "                   'angry': 'angry, fierce, irritated',\n",
    "                  'lonely': 'lonely, alone, lonesome'}\n",
    "\n",
    "print(\"######## GPU SPEED ##########\")\n",
    "start = time.time()\n",
    "for j in range(2):\n",
    "    for emotion in emotion_prompts.keys():\n",
    "        \n",
    "        emotion_prompt = emotion_prompts[emotion]\n",
    "    \n",
    "        ethnicity = random.choice(ethnicities)\n",
    "        gender = random.choice(genders)\n",
    "    \n",
    "        prompt = 'Medium-shot portrait of {} {}, {}, front view, looking at the camera, color photography, '.format(ethnicity, gender, emotion_prompt) + \\\n",
    "            'photorealistic, hyperrealistic, realistic, incredibly detailed, crisp focus, digital art, depth of field, 50mm, 8k'\n",
    "        negative_prompt = '3d, cartoon, anime, sketches, (worst quality:2), (low quality:2), (normal quality:2), lowres, normal quality, ((monochrome)), ' + \\\n",
    "                      '((grayscale)) Low Quality, Worst Quality, plastic, fake, disfigured, deformed, blurry, bad anatomy, blurred, watermark, grainy, signature'\n",
    "\n",
    "        image = pipeline(prompt=prompt, negative_prompt=negative_prompt).images[0]\n",
    "        image.save('/notebooks/{}/{}.png'.format(emotion, str(j).zfill(4)))\n",
    "print(time.time() - start)"
   ]
  },
  {
   "cell_type": "code",
   "execution_count": 25,
   "id": "a36ade8a-0266-443a-b5d8-88efc0a951d9",
   "metadata": {
    "execution": {
     "iopub.execute_input": "2024-03-01T07:12:26.104824Z",
     "iopub.status.busy": "2024-03-01T07:12:26.104202Z",
     "iopub.status.idle": "2024-03-01T07:12:53.153061Z",
     "shell.execute_reply": "2024-03-01T07:12:53.151174Z",
     "shell.execute_reply.started": "2024-03-01T07:12:26.104770Z"
    }
   },
   "outputs": [
    {
     "name": "stdout",
     "output_type": "stream",
     "text": [
      "Time taken on CPU: 23.30 seconds\n",
      "Time taken on GPU: 2.78 seconds\n"
     ]
    }
   ],
   "source": [
    "# Speed test CPU vs GPU\n",
    "\n",
    "import tensorflow as tf\n",
    "import time\n",
    "\n",
    "# Generate random data\n",
    "data_size = 10000\n",
    "input_data = tf.random.normal([data_size, data_size])\n",
    "\n",
    "# Define a simple neural network model\n",
    "model = tf.keras.Sequential([\n",
    "    tf.keras.layers.Dense(1000, activation='relu', input_shape=(data_size,)),\n",
    "    tf.keras.layers.Dense(1000, activation='relu'),\n",
    "    tf.keras.layers.Dense(1)\n",
    "])\n",
    "\n",
    "# Compile the model\n",
    "model.compile(optimizer='adam', loss='mse')\n",
    "\n",
    "# Function to test the speed of CPU and GPU\n",
    "def speed_test(device):\n",
    "    with tf.device(device):\n",
    "        start_time = time.time()\n",
    "        model.fit(input_data, tf.zeros(data_size), epochs=1, batch_size=32, verbose=0)\n",
    "        end_time = time.time()\n",
    "        return end_time - start_time\n",
    "\n",
    "# Test CPU speed\n",
    "cpu_time = speed_test('/CPU:0')\n",
    "print(\"Time taken on CPU: {:.2f} seconds\".format(cpu_time))\n",
    "\n",
    "# Test GPU speed\n",
    "gpu_time = speed_test('/GPU:0')\n",
    "print(\"Time taken on GPU: {:.2f} seconds\".format(gpu_time))\n"
   ]
  },
  {
   "cell_type": "code",
   "execution_count": 26,
   "id": "a9a27204-6a59-4506-9ffb-44659e939eb8",
   "metadata": {
    "execution": {
     "iopub.execute_input": "2024-03-01T07:24:00.930020Z",
     "iopub.status.busy": "2024-03-01T07:24:00.929415Z",
     "iopub.status.idle": "2024-03-01T07:27:42.016116Z",
     "shell.execute_reply": "2024-03-01T07:27:42.013167Z",
     "shell.execute_reply.started": "2024-03-01T07:24:00.929976Z"
    }
   },
   "outputs": [
    {
     "name": "stdout",
     "output_type": "stream",
     "text": [
      "Downloading data from https://storage.googleapis.com/tensorflow/tf-keras-datasets/mnist.npz\n",
      "11490434/11490434 [==============================] - 4s 0us/step\n",
      "Time taken on CPU: 167.68 seconds\n",
      "Time taken on GPU: 48.31 seconds\n"
     ]
    }
   ],
   "source": [
    "import tensorflow as tf\n",
    "from tensorflow.keras import layers, models\n",
    "import time\n",
    "\n",
    "# Load MNIST dataset\n",
    "(train_images, train_labels), (test_images, test_labels) = tf.keras.datasets.mnist.load_data()\n",
    "train_images = train_images.reshape((60000, 28, 28, 1)).astype('float32') / 255\n",
    "test_images = test_images.reshape((10000, 28, 28, 1)).astype('float32') / 255\n",
    "\n",
    "# Define a simple CNN model\n",
    "model = models.Sequential()\n",
    "model.add(layers.Conv2D(32, (3, 3), activation='relu', input_shape=(28, 28, 1)))\n",
    "model.add(layers.MaxPooling2D((2, 2)))\n",
    "model.add(layers.Conv2D(64, (3, 3), activation='relu'))\n",
    "model.add(layers.MaxPooling2D((2, 2)))\n",
    "model.add(layers.Conv2D(64, (3, 3), activation='relu'))\n",
    "model.add(layers.Flatten())\n",
    "model.add(layers.Dense(64, activation='relu'))\n",
    "model.add(layers.Dense(10, activation='softmax'))\n",
    "\n",
    "# Compile the model\n",
    "model.compile(optimizer='adam',\n",
    "              loss='sparse_categorical_crossentropy',\n",
    "              metrics=['accuracy'])\n",
    "\n",
    "# Function to test the speed of CPU and GPU\n",
    "def speed_test(device):\n",
    "    with tf.device(device):\n",
    "        start_time = time.time()\n",
    "        model.fit(train_images, train_labels, epochs=5, batch_size=64, validation_data=(test_images, test_labels), verbose=0)\n",
    "        end_time = time.time()\n",
    "        return end_time - start_time\n",
    "\n",
    "# Test CPU speed\n",
    "cpu_time = speed_test('/CPU:0')\n",
    "print(\"Time taken on CPU: {:.2f} seconds\".format(cpu_time))\n",
    "\n",
    "# Test GPU speed\n",
    "gpu_time = speed_test('/GPU:0')\n",
    "print(\"Time taken on GPU: {:.2f} seconds\".format(gpu_time))\n"
   ]
  },
  {
   "cell_type": "code",
   "execution_count": null,
   "id": "b3e5362a-4713-4a13-ac68-f7f5e89cd284",
   "metadata": {},
   "outputs": [],
   "source": []
  },
  {
   "cell_type": "code",
   "execution_count": null,
   "id": "5a01a422-bee1-4138-8fca-3d23d9e454a9",
   "metadata": {},
   "outputs": [],
   "source": []
  },
  {
   "cell_type": "code",
   "execution_count": null,
   "id": "0b6d4991-00f8-4102-a0f1-0ea73ece5fbf",
   "metadata": {},
   "outputs": [],
   "source": []
  },
  {
   "cell_type": "code",
   "execution_count": null,
   "id": "85e0c8ad-5c37-4db0-9194-3cb60ef42cfb",
   "metadata": {},
   "outputs": [],
   "source": []
  },
  {
   "cell_type": "code",
   "execution_count": null,
   "id": "17385a6d-d0a7-4982-a15d-918338bf9597",
   "metadata": {},
   "outputs": [],
   "source": []
  }
 ],
 "metadata": {
  "kernelspec": {
   "display_name": "Python 3 (ipykernel)",
   "language": "python",
   "name": "python3"
  },
  "language_info": {
   "codemirror_mode": {
    "name": "ipython",
    "version": 3
   },
   "file_extension": ".py",
   "mimetype": "text/x-python",
   "name": "python",
   "nbconvert_exporter": "python",
   "pygments_lexer": "ipython3",
   "version": "3.9.16"
  }
 },
 "nbformat": 4,
 "nbformat_minor": 5
}
